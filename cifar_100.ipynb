{
 "cells": [
  {
   "cell_type": "code",
   "execution_count": null,
   "id": "d302604a",
   "metadata": {},
   "outputs": [
    {
     "name": "stdout",
     "output_type": "stream",
     "text": [
      "2.6.0+cpu\n"
     ]
    }
   ],
   "source": [
    "import torch\n",
    "print(torch.__version__)"
   ]
  },
  {
   "cell_type": "code",
   "execution_count": null,
   "id": "46b78d4f",
   "metadata": {},
   "outputs": [
    {
     "name": "stderr",
     "output_type": "stream",
     "text": [
      "100%|██████████| 169M/169M [10:25<00:00, 270kB/s]     \n"
     ]
    },
    {
     "data": {
      "text/plain": [
       "Dataset CIFAR100\n",
       "    Number of datapoints: 50000\n",
       "    Root location: .datasets\n",
       "    Split: Train"
      ]
     },
     "execution_count": 2,
     "metadata": {},
     "output_type": "execute_result"
    }
   ],
   "source": [
    "from torchvision import datasets\n",
    "\n",
    "download_dir = \".datasets\"\n",
    "\n",
    "train_data = datasets.CIFAR100(root = download_dir, train = True, download = True)\n",
    "test_data = datasets.CIFAR100(root = download_dir, train = False, download = True)\n",
    "\n",
    "train_data"
   ]
  },
  {
   "cell_type": "code",
   "execution_count": 4,
   "id": "3b401c03",
   "metadata": {},
   "outputs": [
    {
     "data": {
      "text/plain": [
       "(torch.Size([10000, 3, 32, 32]), torch.Size([50000]))"
      ]
     },
     "execution_count": 4,
     "metadata": {},
     "output_type": "execute_result"
    }
   ],
   "source": [
    "X_train = torch.tensor(train_data.data, dtype = torch.float32) / 255.0\n",
    "X_train = X_train.permute(0,3,1,2)\n",
    "y_train = torch.tensor(train_data.targets, dtype = torch.long)\n",
    "\n",
    "X_test = torch.tensor(test_data.data, dtype = torch.float32) / 255.0\n",
    "X_test = X_test.permute(0,3,1,2)\n",
    "y_test = torch.tensor(test_data.data, dtype = torch.long)\n",
    "\n",
    "X_test.shape, y_train.shape"
   ]
  },
  {
   "cell_type": "code",
   "execution_count": 7,
   "id": "0921a3cb",
   "metadata": {},
   "outputs": [
    {
     "data": {
      "text/plain": [
       "['apple', 'aquarium_fish', 'baby', 'bear', 'beaver']"
      ]
     },
     "execution_count": 7,
     "metadata": {},
     "output_type": "execute_result"
    }
   ],
   "source": [
    "classes = train_data.classes\n",
    "classes[0:5]"
   ]
  },
  {
   "cell_type": "code",
   "execution_count": 9,
   "id": "352169a4",
   "metadata": {},
   "outputs": [],
   "source": [
    "from collections import OrderedDict\n",
    "\n",
    "model = torch.nn.Sequential(\n",
    "    OrderedDict([\n",
    "    ('con1', torch.nn.Conv2d(in_channels=3, out_channels=32, kernel_size=(3,3), padding = 'same')),\n",
    "    ('act1', torch.nn.ReLU()),\n",
    "    ('pol1', torch.nn.MaxPool2d(kernel_size = 2, stride = 2)),\n",
    "    ('con2', torch.nn.Conv2d(in_channels=32, out_channels= 64, kernel_size=(3,3), padding = 'same')),\n",
    "    ('act2', torch.nn.ReLU()),\n",
    "    ('pol2', torch.nn.MaxPool2d(kernel_size = 2, stride = 2)),\n",
    "    ('con3', torch.nn.Conv2d(in_channels=64,out_channels=128, kernel_size = (3,3), padding = 'same')),\n",
    "    ('act3', torch.nn.ReLU()),\n",
    "    ('flat', torch.nn.Flatten()),\n",
    "    ('lin1', torch.nn.Linear(in_features = 128*8*8, out_features= 512)),\n",
    "    ('act4', torch.nn.ReLU()),\n",
    "    ('drop', torch.nn.Dropout(p=0.5)),\n",
    "    ('lin2', torch.nn.Linear(in_features = 512, out_features = 100)),\n",
    "    ]))"
   ]
  },
  {
   "cell_type": "code",
   "execution_count": 10,
   "id": "edb0a073",
   "metadata": {},
   "outputs": [],
   "source": [
    "import torch.optim.sgd\n",
    "\n",
    "\n",
    "optimizer = torch.optim.SGD(\n",
    "    model.parameters(),\n",
    "    lr = 0.01\n",
    ")\n",
    "\n",
    "loss_func = torch.nn.CrossEntropyLoss()\n",
    "epochs = 15"
   ]
  },
  {
   "cell_type": "code",
   "execution_count": 13,
   "id": "d0a78a2d",
   "metadata": {},
   "outputs": [
    {
     "data": {
      "application/vnd.jupyter.widget-view+json": {
       "model_id": "646a9120499245f7b5ccc07880565e76",
       "version_major": 2,
       "version_minor": 0
      },
      "text/plain": [
       "Колян геюга 1:   0%|          | 0/391 [00:00<?, ?it/s]"
      ]
     },
     "metadata": {},
     "output_type": "display_data"
    },
    {
     "data": {
      "application/vnd.jupyter.widget-view+json": {
       "model_id": "1f02da19ef0045f6a6bc70553d04402a",
       "version_major": 2,
       "version_minor": 0
      },
      "text/plain": [
       "Колян геюга 2:   0%|          | 0/391 [00:00<?, ?it/s]"
      ]
     },
     "metadata": {},
     "output_type": "display_data"
    },
    {
     "data": {
      "application/vnd.jupyter.widget-view+json": {
       "model_id": "14a1267db0c3462c95a617c5f9ed65a0",
       "version_major": 2,
       "version_minor": 0
      },
      "text/plain": [
       "Колян геюга 3:   0%|          | 0/391 [00:00<?, ?it/s]"
      ]
     },
     "metadata": {},
     "output_type": "display_data"
    },
    {
     "data": {
      "application/vnd.jupyter.widget-view+json": {
       "model_id": "d6521749c16d4cac9cabe5bff8a79ac9",
       "version_major": 2,
       "version_minor": 0
      },
      "text/plain": [
       "Колян геюга 4:   0%|          | 0/391 [00:00<?, ?it/s]"
      ]
     },
     "metadata": {},
     "output_type": "display_data"
    },
    {
     "data": {
      "application/vnd.jupyter.widget-view+json": {
       "model_id": "052fe7c49bc8404bb63acb9b3102fea7",
       "version_major": 2,
       "version_minor": 0
      },
      "text/plain": [
       "Колян геюга 5:   0%|          | 0/391 [00:00<?, ?it/s]"
      ]
     },
     "metadata": {},
     "output_type": "display_data"
    },
    {
     "data": {
      "application/vnd.jupyter.widget-view+json": {
       "model_id": "f86f00610af04526987c62b91ce9a86c",
       "version_major": 2,
       "version_minor": 0
      },
      "text/plain": [
       "Колян геюга 6:   0%|          | 0/391 [00:00<?, ?it/s]"
      ]
     },
     "metadata": {},
     "output_type": "display_data"
    },
    {
     "data": {
      "application/vnd.jupyter.widget-view+json": {
       "model_id": "a26bd6716d0a421488097e82a331843c",
       "version_major": 2,
       "version_minor": 0
      },
      "text/plain": [
       "Колян геюга 7:   0%|          | 0/391 [00:00<?, ?it/s]"
      ]
     },
     "metadata": {},
     "output_type": "display_data"
    },
    {
     "data": {
      "application/vnd.jupyter.widget-view+json": {
       "model_id": "7d8595f8149b4c4eaee155830ed9eef7",
       "version_major": 2,
       "version_minor": 0
      },
      "text/plain": [
       "Колян геюга 8:   0%|          | 0/391 [00:00<?, ?it/s]"
      ]
     },
     "metadata": {},
     "output_type": "display_data"
    },
    {
     "data": {
      "application/vnd.jupyter.widget-view+json": {
       "model_id": "4aa30a9743f14797802b2497438df1ce",
       "version_major": 2,
       "version_minor": 0
      },
      "text/plain": [
       "Колян геюга 9:   0%|          | 0/391 [00:00<?, ?it/s]"
      ]
     },
     "metadata": {},
     "output_type": "display_data"
    },
    {
     "data": {
      "application/vnd.jupyter.widget-view+json": {
       "model_id": "3e47fbe156784c84a4d58047a1ed2c30",
       "version_major": 2,
       "version_minor": 0
      },
      "text/plain": [
       "Колян геюга 10:   0%|          | 0/391 [00:00<?, ?it/s]"
      ]
     },
     "metadata": {},
     "output_type": "display_data"
    },
    {
     "data": {
      "application/vnd.jupyter.widget-view+json": {
       "model_id": "416aed7de8a9438c821b6cec6a61525c",
       "version_major": 2,
       "version_minor": 0
      },
      "text/plain": [
       "Колян геюга 11:   0%|          | 0/391 [00:00<?, ?it/s]"
      ]
     },
     "metadata": {},
     "output_type": "display_data"
    },
    {
     "data": {
      "application/vnd.jupyter.widget-view+json": {
       "model_id": "2b45559f7fc14115a60b783ea977a502",
       "version_major": 2,
       "version_minor": 0
      },
      "text/plain": [
       "Колян геюга 12:   0%|          | 0/391 [00:00<?, ?it/s]"
      ]
     },
     "metadata": {},
     "output_type": "display_data"
    },
    {
     "data": {
      "application/vnd.jupyter.widget-view+json": {
       "model_id": "efc2f204c624431cb88d8ea83467efc5",
       "version_major": 2,
       "version_minor": 0
      },
      "text/plain": [
       "Колян геюга 13:   0%|          | 0/391 [00:00<?, ?it/s]"
      ]
     },
     "metadata": {},
     "output_type": "display_data"
    },
    {
     "data": {
      "application/vnd.jupyter.widget-view+json": {
       "model_id": "c537c547c9644e39a9343e7f8478365d",
       "version_major": 2,
       "version_minor": 0
      },
      "text/plain": [
       "Колян геюга 14:   0%|          | 0/391 [00:00<?, ?it/s]"
      ]
     },
     "metadata": {},
     "output_type": "display_data"
    },
    {
     "data": {
      "application/vnd.jupyter.widget-view+json": {
       "model_id": "33d07043972b4986ac8c1b9ceebfd009",
       "version_major": 2,
       "version_minor": 0
      },
      "text/plain": [
       "Колян геюга 15:   0%|          | 0/391 [00:00<?, ?it/s]"
      ]
     },
     "metadata": {},
     "output_type": "display_data"
    }
   ],
   "source": [
    "from torch.utils.data import DataLoader\n",
    "from tqdm.notebook import tqdm_notebook\n",
    "\n",
    "dataset = torch.utils.data.TensorDataset(X_train,y_train)\n",
    "dataloader = DataLoader(dataset, batch_size=128, shuffle = True)\n",
    "\n",
    "losses = []\n",
    "\n",
    "for epoch in range(epochs):\n",
    "    with tqdm_notebook(total = len(dataloader), desc=f\"Колян геюга {epoch+1}\") as inner_pbar:\n",
    "        for batch_x, batch_y in dataloader:\n",
    "            optimizer.zero_grad()\n",
    "            y_pred = model(batch_x)\n",
    "            loss = loss_func(y_pred, batch_y)\n",
    "            loss.backward()\n",
    "            optimizer.step()\n",
    "\n",
    "            losses.append(loss.item())\n",
    "\n",
    "            inner_pbar.set_postfix({'Batch Loss': f\"{loss.item():.4f}\"})\n",
    "            inner_pbar.update(1)"
   ]
  },
  {
   "cell_type": "code",
   "execution_count": 17,
   "id": "9bb1fb53",
   "metadata": {},
   "outputs": [
    {
     "data": {
      "text/plain": [
       "array([12, 66, 59, ..., 18,  3,  0], shape=(10000,))"
      ]
     },
     "execution_count": 17,
     "metadata": {},
     "output_type": "execute_result"
    }
   ],
   "source": [
    "res = model(X_test)\n",
    "res = res.argmax(dim = 1)\n",
    "res = res.numpy()\n",
    "res"
   ]
  },
  {
   "cell_type": "code",
   "execution_count": 15,
   "id": "c4c0d844",
   "metadata": {},
   "outputs": [
    {
     "data": {
      "text/plain": [
       "0.1655"
      ]
     },
     "execution_count": 15,
     "metadata": {},
     "output_type": "execute_result"
    }
   ],
   "source": [
    "from sklearn.metrics import accuracy_score\n",
    "\n",
    "accuracy_score(res, test_data.targets)"
   ]
  },
  {
   "cell_type": "code",
   "execution_count": null,
   "id": "b9932ce9",
   "metadata": {},
   "outputs": [],
   "source": [
    "import matplotlib.pyplot as plt"
   ]
  },
  {
   "cell_type": "code",
   "execution_count": 55,
   "id": "bee7d1e7",
   "metadata": {},
   "outputs": [],
   "source": [
    "img, pred = test_data.data[28], test_data.classes[res[28]]"
   ]
  },
  {
   "cell_type": "code",
   "execution_count": 57,
   "id": "eee3dc93",
   "metadata": {},
   "outputs": [
    {
     "data": {
      "image/png": "[encoded data removed]",
      "text/plain": [
       "<Figure size 640x480 with 1 Axes>"
      ]
     },
     "metadata": {},
     "output_type": "display_data"
    }
   ],
   "source": [
    "plt.imshow(img, cmap='gray')\n",
    "plt.title(pred)\n",
    "plt.axis('off')\n",
    "plt.show()"
   ]
  },
  {
   "cell_type": "code",
   "execution_count": null,
   "id": "986ea478",
   "metadata": {},
   "outputs": [],
   "source": []
  }
 ],
 "metadata": {
  "kernelspec": {
   "display_name": "Python 3",
   "language": "python",
   "name": "python3"
  },
  "language_info": {
   "codemirror_mode": {
    "name": "ipython",
    "version": 3
   },
   "file_extension": ".py",
   "mimetype": "text/x-python",
   "name": "python",
   "nbconvert_exporter": "python",
   "pygments_lexer": "ipython3",
   "version": "3.13.2"
  }
 },
 "nbformat": 4,
 "nbformat_minor": 5
}
