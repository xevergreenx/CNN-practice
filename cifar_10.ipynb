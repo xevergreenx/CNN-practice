{
 "cells": [
  {
   "cell_type": "code",
   "execution_count": 1,
   "id": "b94a6f7f",
   "metadata": {},
   "outputs": [
    {
     "name": "stdout",
     "output_type": "stream",
     "text": [
      "2.6.0+cpu\n"
     ]
    }
   ],
   "source": [
    "import torch\n",
    "print(torch.__version__)"
   ]
  },
  {
   "cell_type": "code",
   "execution_count": 2,
   "id": "80efe4de",
   "metadata": {},
   "outputs": [],
   "source": [
    "from torchvision import datasets\n",
    "\n",
    "download_dir = \".datasets\"\n",
    "\n",
    "train_data = datasets.CIFAR10(root = download_dir, download = True, train = True)\n",
    "test_data = datasets.CIFAR10(root = download_dir, download = True, train = False)"
   ]
  },
  {
   "cell_type": "code",
   "execution_count": 3,
   "id": "4c88d02e",
   "metadata": {},
   "outputs": [
    {
     "data": {
      "text/plain": [
       "Dataset CIFAR10\n",
       "    Number of datapoints: 50000\n",
       "    Root location: .datasets\n",
       "    Split: Train"
      ]
     },
     "execution_count": 3,
     "metadata": {},
     "output_type": "execute_result"
    }
   ],
   "source": [
    "train_data"
   ]
  },
  {
   "cell_type": "code",
   "execution_count": 4,
   "id": "88dd0cb5",
   "metadata": {},
   "outputs": [
    {
     "data": {
      "text/plain": [
       "torch.Size([50000, 3, 32, 32])"
      ]
     },
     "execution_count": 4,
     "metadata": {},
     "output_type": "execute_result"
    }
   ],
   "source": [
    "x_train = torch.tensor(train_data.data, dtype=torch.float32) / 255.0\n",
    "x_train = x_train.permute(0, 3, 1, 2)  # Меняем порядок каналов для формата CHW (channels-first)\n",
    "y_train = torch.tensor(train_data.targets, dtype=torch.long)\n",
    "\n",
    "x_val = torch.tensor(test_data.data, dtype=torch.float32) / 255.0\n",
    "x_val = x_val.permute(0, 3, 1, 2)\n",
    "y_val = torch.tensor(test_data.targets, dtype=torch.long)\n",
    "\n",
    "x_train.shape"
   ]
  },
  {
   "cell_type": "code",
   "execution_count": 5,
   "id": "7fa3bcb1",
   "metadata": {},
   "outputs": [
    {
     "data": {
      "text/plain": [
       "['airplane',\n",
       " 'automobile',\n",
       " 'bird',\n",
       " 'cat',\n",
       " 'deer',\n",
       " 'dog',\n",
       " 'frog',\n",
       " 'horse',\n",
       " 'ship',\n",
       " 'truck']"
      ]
     },
     "execution_count": 5,
     "metadata": {},
     "output_type": "execute_result"
    }
   ],
   "source": [
    "classes = train_data.classes\n",
    "classes"
   ]
  },
  {
   "cell_type": "code",
   "execution_count": 6,
   "id": "0fd70324",
   "metadata": {},
   "outputs": [
    {
     "data": {
      "text/plain": [
       "Sequential(\n",
       "  (con1): Conv2d(3, 32, kernel_size=(3, 3), stride=(1, 1), padding=same)\n",
       "  (act1): ReLU()\n",
       "  (pol1): MaxPool2d(kernel_size=2, stride=2, padding=0, dilation=1, ceil_mode=False)\n",
       "  (con2): Conv2d(32, 64, kernel_size=(3, 3), stride=(1, 1), padding=same)\n",
       "  (act2): ReLU()\n",
       "  (pol2): MaxPool2d(kernel_size=2, stride=2, padding=0, dilation=1, ceil_mode=False)\n",
       "  (con3): Conv2d(64, 128, kernel_size=(3, 3), stride=(1, 1), padding=same)\n",
       "  (act3): ReLU()\n",
       "  (flat): Flatten(start_dim=1, end_dim=-1)\n",
       "  (lin1): Linear(in_features=8192, out_features=512, bias=True)\n",
       "  (act4): ReLU()\n",
       "  (drop): Dropout(p=0.5, inplace=False)\n",
       "  (lin2): Linear(in_features=512, out_features=10, bias=True)\n",
       ")"
      ]
     },
     "execution_count": 6,
     "metadata": {},
     "output_type": "execute_result"
    }
   ],
   "source": [
    "from collections import OrderedDict\n",
    "\n",
    "model = torch.nn.Sequential(\n",
    "    OrderedDict([\n",
    "    ('con1', torch.nn.Conv2d(in_channels=3, out_channels=32, kernel_size=(3,3), padding = 'same')),\n",
    "    ('act1', torch.nn.ReLU()),\n",
    "    ('pol1', torch.nn.MaxPool2d(kernel_size = 2, stride = 2)),\n",
    "    ('con2', torch.nn.Conv2d(in_channels=32, out_channels= 64, kernel_size=(3,3), padding = 'same')),\n",
    "    ('act2', torch.nn.ReLU()),\n",
    "    ('pol2', torch.nn.MaxPool2d(kernel_size = 2, stride = 2)),\n",
    "    ('con3', torch.nn.Conv2d(in_channels=64,out_channels=128, kernel_size = (3,3), padding = 'same')),\n",
    "    ('act3', torch.nn.ReLU()),\n",
    "    ('flat', torch.nn.Flatten()),\n",
    "    ('lin1', torch.nn.Linear(in_features = 128*8*8, out_features= 512)),\n",
    "    ('act4', torch.nn.ReLU()),\n",
    "    ('drop', torch.nn.Dropout(p=0.5)),\n",
    "    ('lin2', torch.nn.Linear(in_features = 512, out_features = 10)),\n",
    "    ]))\n",
    "\n",
    "model"
   ]
  },
  {
   "cell_type": "code",
   "execution_count": 8,
   "id": "95ee99ef",
   "metadata": {},
   "outputs": [],
   "source": [
    "import torch.optim.sgd\n",
    "\n",
    "\n",
    "optimizer = torch.optim.SGD(\n",
    "    model.parameters(),\n",
    "    lr = 0.01\n",
    ")\n",
    "\n",
    "loss_func = torch.nn.CrossEntropyLoss()\n",
    "epochs = 15"
   ]
  },
  {
   "cell_type": "code",
   "execution_count": 9,
   "id": "b5b686cc",
   "metadata": {},
   "outputs": [
    {
     "data": {
      "application/vnd.jupyter.widget-view+json": {
       "model_id": "675c4ce1b15d448bbf1828401cd908ea",
       "version_major": 2,
       "version_minor": 0
      },
      "text/plain": [
       "Epoch 1:   0%|          | 0/782 [00:00<?, ?it/s]"
      ]
     },
     "metadata": {},
     "output_type": "display_data"
    },
    {
     "data": {
      "application/vnd.jupyter.widget-view+json": {
       "model_id": "efd7734cf0c0440995fbc63f44f02ccc",
       "version_major": 2,
       "version_minor": 0
      },
      "text/plain": [
       "Epoch 2:   0%|          | 0/782 [00:00<?, ?it/s]"
      ]
     },
     "metadata": {},
     "output_type": "display_data"
    },
    {
     "data": {
      "application/vnd.jupyter.widget-view+json": {
       "model_id": "17f11707abcc49e08824057939343a46",
       "version_major": 2,
       "version_minor": 0
      },
      "text/plain": [
       "Epoch 3:   0%|          | 0/782 [00:00<?, ?it/s]"
      ]
     },
     "metadata": {},
     "output_type": "display_data"
    },
    {
     "data": {
      "application/vnd.jupyter.widget-view+json": {
       "model_id": "35f019ec7c754ae38d5e72528217fa0d",
       "version_major": 2,
       "version_minor": 0
      },
      "text/plain": [
       "Epoch 4:   0%|          | 0/782 [00:00<?, ?it/s]"
      ]
     },
     "metadata": {},
     "output_type": "display_data"
    },
    {
     "data": {
      "application/vnd.jupyter.widget-view+json": {
       "model_id": "05d2fefbc5fb4048a443fbe9d590c2e0",
       "version_major": 2,
       "version_minor": 0
      },
      "text/plain": [
       "Epoch 5:   0%|          | 0/782 [00:00<?, ?it/s]"
      ]
     },
     "metadata": {},
     "output_type": "display_data"
    },
    {
     "data": {
      "application/vnd.jupyter.widget-view+json": {
       "model_id": "f144d80fc2d94b4ba469b0937c279420",
       "version_major": 2,
       "version_minor": 0
      },
      "text/plain": [
       "Epoch 6:   0%|          | 0/782 [00:00<?, ?it/s]"
      ]
     },
     "metadata": {},
     "output_type": "display_data"
    },
    {
     "data": {
      "application/vnd.jupyter.widget-view+json": {
       "model_id": "59f4dea748f4483e80d6bb4b412560b7",
       "version_major": 2,
       "version_minor": 0
      },
      "text/plain": [
       "Epoch 7:   0%|          | 0/782 [00:00<?, ?it/s]"
      ]
     },
     "metadata": {},
     "output_type": "display_data"
    },
    {
     "data": {
      "application/vnd.jupyter.widget-view+json": {
       "model_id": "c80340ea42e2499eaef3a4f3cf0d6f05",
       "version_major": 2,
       "version_minor": 0
      },
      "text/plain": [
       "Epoch 8:   0%|          | 0/782 [00:00<?, ?it/s]"
      ]
     },
     "metadata": {},
     "output_type": "display_data"
    },
    {
     "data": {
      "application/vnd.jupyter.widget-view+json": {
       "model_id": "60d106640c6a4c78ac7640fd05906df6",
       "version_major": 2,
       "version_minor": 0
      },
      "text/plain": [
       "Epoch 9:   0%|          | 0/782 [00:00<?, ?it/s]"
      ]
     },
     "metadata": {},
     "output_type": "display_data"
    },
    {
     "data": {
      "application/vnd.jupyter.widget-view+json": {
       "model_id": "1581d733779447d59898c5bffaa7fa49",
       "version_major": 2,
       "version_minor": 0
      },
      "text/plain": [
       "Epoch 10:   0%|          | 0/782 [00:00<?, ?it/s]"
      ]
     },
     "metadata": {},
     "output_type": "display_data"
    },
    {
     "data": {
      "application/vnd.jupyter.widget-view+json": {
       "model_id": "78d63b1d759c462ca4ce87fc3c36992a",
       "version_major": 2,
       "version_minor": 0
      },
      "text/plain": [
       "Epoch 11:   0%|          | 0/782 [00:00<?, ?it/s]"
      ]
     },
     "metadata": {},
     "output_type": "display_data"
    },
    {
     "data": {
      "application/vnd.jupyter.widget-view+json": {
       "model_id": "6378f6b3824f4a5082de9dfdc2263a5d",
       "version_major": 2,
       "version_minor": 0
      },
      "text/plain": [
       "Epoch 12:   0%|          | 0/782 [00:00<?, ?it/s]"
      ]
     },
     "metadata": {},
     "output_type": "display_data"
    },
    {
     "data": {
      "application/vnd.jupyter.widget-view+json": {
       "model_id": "d4341586a8f7445bab5490c97b3d9b99",
       "version_major": 2,
       "version_minor": 0
      },
      "text/plain": [
       "Epoch 13:   0%|          | 0/782 [00:00<?, ?it/s]"
      ]
     },
     "metadata": {},
     "output_type": "display_data"
    },
    {
     "data": {
      "application/vnd.jupyter.widget-view+json": {
       "model_id": "a5eafe5e72b14dccbea7b4fd37d99dab",
       "version_major": 2,
       "version_minor": 0
      },
      "text/plain": [
       "Epoch 14:   0%|          | 0/782 [00:00<?, ?it/s]"
      ]
     },
     "metadata": {},
     "output_type": "display_data"
    },
    {
     "data": {
      "application/vnd.jupyter.widget-view+json": {
       "model_id": "fed49ab599364e179c7b231c5147f5da",
       "version_major": 2,
       "version_minor": 0
      },
      "text/plain": [
       "Epoch 15:   0%|          | 0/782 [00:00<?, ?it/s]"
      ]
     },
     "metadata": {},
     "output_type": "display_data"
    }
   ],
   "source": [
    "from torch.utils.data import DataLoader\n",
    "from tqdm.notebook import tqdm_notebook\n",
    "\n",
    "dataset = torch.utils.data.TensorDataset(x_train, y_train)\n",
    "dataloader = DataLoader(dataset, batch_size=64, shuffle=True)\n",
    "\n",
    "losses = []\n",
    "\n",
    "for epoch in range(epochs):\n",
    "    with tqdm_notebook(total=len(dataloader), desc=f\"Epoch {epoch+1}\") as inner_pbar:\n",
    "        for batch_x, batch_y in dataloader:\n",
    "            optimizer.zero_grad()\n",
    "            y_pred = model(batch_x)\n",
    "            loss = loss_func(y_pred, batch_y)\n",
    "            loss.backward()\n",
    "            optimizer.step()\n",
    "\n",
    "            losses.append(loss.item())\n",
    "\n",
    "            # Показываем текущую потерю и прогресс\n",
    "            inner_pbar.set_postfix({'Batch Loss': f\"{loss.item():.4f}\"})\n",
    "            inner_pbar.update(1)"
   ]
  },
  {
   "cell_type": "code",
   "execution_count": 10,
   "id": "6a9944e3",
   "metadata": {},
   "outputs": [
    {
     "data": {
      "text/plain": [
       "tensor([[ 0.0467,  0.4474,  0.2869,  ..., -0.8446, -0.2561, -1.0294],\n",
       "        [ 5.3612,  7.1128, -0.3239,  ..., -4.6679,  7.7825,  4.8796],\n",
       "        [ 3.7968,  4.6729,  0.0832,  ..., -3.2881,  6.9625,  2.9602],\n",
       "        ...,\n",
       "        [-1.6993, -3.8606,  2.0521,  ...,  1.2633, -0.6681, -0.5355],\n",
       "        [ 1.6416,  4.2214, -0.3205,  ..., -1.6399,  1.4793,  1.3798],\n",
       "        [-0.8222, -0.0118,  0.7496,  ...,  3.2286, -2.3557, -0.5429]],\n",
       "       grad_fn=<AddmmBackward0>)"
      ]
     },
     "execution_count": 10,
     "metadata": {},
     "output_type": "execute_result"
    }
   ],
   "source": [
    "res_predicted = model(x_val)\n",
    "res_predicted"
   ]
  },
  {
   "cell_type": "code",
   "execution_count": 11,
   "id": "12c2f125",
   "metadata": {},
   "outputs": [
    {
     "data": {
      "text/plain": [
       "array([3, 8, 8, ..., 5, 1, 7], shape=(10000,))"
      ]
     },
     "execution_count": 11,
     "metadata": {},
     "output_type": "execute_result"
    }
   ],
   "source": [
    "predited_classes = res_predicted.argmax(dim=1)\n",
    "predited_classes = predited_classes.numpy()\n",
    "predited_classes"
   ]
  },
  {
   "cell_type": "code",
   "execution_count": 12,
   "id": "a2b23417",
   "metadata": {},
   "outputs": [
    {
     "data": {
      "text/plain": [
       "0.5299"
      ]
     },
     "execution_count": 12,
     "metadata": {},
     "output_type": "execute_result"
    }
   ],
   "source": [
    "from sklearn.metrics import accuracy_score\n",
    "accuracy_score(predited_classes, test_data.targets)"
   ]
  },
  {
   "cell_type": "code",
   "execution_count": null,
   "id": "611f2411",
   "metadata": {},
   "outputs": [],
   "source": []
  }
 ],
 "metadata": {
  "kernelspec": {
   "display_name": "Python 3",
   "language": "python",
   "name": "python3"
  },
  "language_info": {
   "codemirror_mode": {
    "name": "ipython",
    "version": 3
   },
   "file_extension": ".py",
   "mimetype": "text/x-python",
   "name": "python",
   "nbconvert_exporter": "python",
   "pygments_lexer": "ipython3",
   "version": "3.13.2"
  }
 },
 "nbformat": 4,
 "nbformat_minor": 5
}
